{
  "nbformat": 4,
  "nbformat_minor": 0,
  "metadata": {
    "colab": {
      "provenance": []
    },
    "kernelspec": {
      "name": "python3",
      "display_name": "Python 3"
    },
    "language_info": {
      "name": "python"
    }
  },
  "cells": [
    {
      "cell_type": "code",
      "execution_count": 4,
      "metadata": {
        "colab": {
          "base_uri": "https://localhost:8080/"
        },
        "id": "QssG8cRPUjo3",
        "outputId": "83b3b4c3-1ab4-43f5-89f8-ac40dd8e7491"
      },
      "outputs": [
        {
          "output_type": "stream",
          "name": "stdout",
          "text": [
            "Reading package lists... Done\n",
            "Building dependency tree... Done\n",
            "Reading state information... Done\n",
            "mpich is already the newest version (4.0-3).\n",
            "0 upgraded, 0 newly installed, 0 to remove and 34 not upgraded.\n"
          ]
        }
      ],
      "source": [
        "!apt-get install -y mpich"
      ]
    },
    {
      "cell_type": "code",
      "source": [
        "%%writefile hello_mpi.cpp\n",
        "#include <mpi.h>\n",
        "#include <iostream>\n",
        "#include <vector>\n",
        "#include <algorithm>\n",
        "using namespace std;\n",
        "\n",
        "void printArray(const int* arr, int size, const string& label) {\n",
        "    cout << label << \": \";\n",
        "    for (int i = 0; i < size; ++i)\n",
        "        cout << arr[i] << \" \";\n",
        "    cout << endl;\n",
        "}\n",
        "\n",
        "int main(int argc, char** argv) {\n",
        "    int rank, size;\n",
        "    const int total_size = 8;\n",
        "    int full_array[total_size] = { 23, 12, 4, 56, 9, 1, 44, 17 };\n",
        "    vector<int> local_array;\n",
        "\n",
        "    MPI_Init(&argc, &argv);\n",
        "    MPI_Comm_rank(MPI_COMM_WORLD, &rank);\n",
        "    MPI_Comm_size(MPI_COMM_WORLD, &size);\n",
        "\n",
        "    int chunk_size = total_size / size;\n",
        "    local_array.resize(chunk_size);\n",
        "\n",
        "    // Print original array before scattering\n",
        "    if (rank == 0) {\n",
        "        printArray(full_array, total_size, \"Unsorted array\");\n",
        "    }\n",
        "\n",
        "    // Scatter the array to all processes\n",
        "    MPI_Scatter(full_array, chunk_size, MPI_INT,\n",
        "                local_array.data(), chunk_size, MPI_INT,\n",
        "                0, MPI_COMM_WORLD);\n",
        "\n",
        "    // Sort the local chunk\n",
        "    sort(local_array.begin(), local_array.end());\n",
        "\n",
        "    // Odd-even transposition sort\n",
        "    for (int phase = 0; phase < size; ++phase) {\n",
        "        if ((phase % 2 == 0 && rank % 2 == 0) || (phase % 2 == 1 && rank % 2 == 1)) {\n",
        "            if (rank + 1 < size) {\n",
        "                vector<int> neighbor_array(chunk_size);\n",
        "                MPI_Sendrecv(local_array.data(), chunk_size, MPI_INT, rank + 1, 0,\n",
        "                             neighbor_array.data(), chunk_size, MPI_INT, rank + 1, 0,\n",
        "                             MPI_COMM_WORLD, MPI_STATUS_IGNORE);\n",
        "\n",
        "                vector<int> merged(chunk_size * 2);\n",
        "                merge(local_array.begin(), local_array.end(),\n",
        "                      neighbor_array.begin(), neighbor_array.end(), merged.begin());\n",
        "\n",
        "                copy(merged.begin(), merged.begin() + chunk_size, local_array.begin());\n",
        "            }\n",
        "        }\n",
        "        else if (rank - 1 >= 0) {\n",
        "            vector<int> neighbor_array(chunk_size);\n",
        "            MPI_Sendrecv(local_array.data(), chunk_size, MPI_INT, rank - 1, 0,\n",
        "                         neighbor_array.data(), chunk_size, MPI_INT, rank - 1, 0,\n",
        "                         MPI_COMM_WORLD, MPI_STATUS_IGNORE);\n",
        "\n",
        "            vector<int> merged(chunk_size * 2);\n",
        "            merge(neighbor_array.begin(), neighbor_array.end(),\n",
        "                  local_array.begin(), local_array.end(), merged.begin());\n",
        "\n",
        "            copy(merged.begin() + chunk_size, merged.end(), local_array.begin());\n",
        "        }\n",
        "    }\n",
        "\n",
        "    // Gather sorted chunks to full_array at rank 0\n",
        "    MPI_Gather(local_array.data(), chunk_size, MPI_INT,\n",
        "               full_array, chunk_size, MPI_INT,\n",
        "               0, MPI_COMM_WORLD);\n",
        "\n",
        "    if (rank == 0) {\n",
        "        cout << \"Final Sorted Array:\\n\";\n",
        "        for (int i = 0; i < total_size; ++i)\n",
        "            cout << full_array[i] << \" \";\n",
        "        cout << endl;\n",
        "    }\n",
        "\n",
        "    MPI_Finalize();\n",
        "    return 0;\n",
        "}\n"
      ],
      "metadata": {
        "colab": {
          "base_uri": "https://localhost:8080/"
        },
        "id": "FVLuUvYjUoOu",
        "outputId": "429404ff-5c8f-4387-e001-4ecdc9a4b2de"
      },
      "execution_count": 18,
      "outputs": [
        {
          "output_type": "stream",
          "name": "stdout",
          "text": [
            "Overwriting hello_mpi.cpp\n"
          ]
        }
      ]
    },
    {
      "cell_type": "code",
      "source": [
        "!mpic++ hello_mpi.cpp -o hello_mpi"
      ],
      "metadata": {
        "id": "1n4NC7FLUtUe"
      },
      "execution_count": 19,
      "outputs": []
    },
    {
      "cell_type": "code",
      "source": [
        "!OMPI_ALLOW_RUN_AS_ROOT=1 OMPI_ALLOW_RUN_AS_ROOT_CONFIRM=1 mpirun --oversubscribe -np 4 ./hello_mpi"
      ],
      "metadata": {
        "colab": {
          "base_uri": "https://localhost:8080/"
        },
        "id": "PKD0FGvIU0XP",
        "outputId": "fce1c02a-41af-4bc7-b5de-8c778ed72aeb"
      },
      "execution_count": 21,
      "outputs": [
        {
          "output_type": "stream",
          "name": "stdout",
          "text": [
            "Unsorted array: 23 12 4 56 9 1 44 17 \n",
            "Final Sorted Array:\n",
            "1 4 9 12 17 23 44 56 \n"
          ]
        }
      ]
    },
    {
      "cell_type": "code",
      "source": [],
      "metadata": {
        "id": "CMS0kQdqU1jS"
      },
      "execution_count": null,
      "outputs": []
    }
  ]
}