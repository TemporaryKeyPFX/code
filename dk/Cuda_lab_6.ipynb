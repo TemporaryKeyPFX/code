{
  "nbformat": 4,
  "nbformat_minor": 0,
  "metadata": {
    "colab": {
      "provenance": [],
      "gpuType": "T4"
    },
    "kernelspec": {
      "name": "python3",
      "display_name": "Python 3"
    },
    "language_info": {
      "name": "python"
    },
    "accelerator": "GPU"
  },
  "cells": [
    {
      "cell_type": "code",
      "execution_count": null,
      "metadata": {
        "id": "6ooLHEXgrZlN"
      },
      "outputs": [],
      "source": []
    },
    {
      "cell_type": "markdown",
      "source": [
        "Practical 6: Cuda Program for finding perfect Number\n",
        "\n",
        "Steps:\n",
        "1. Enable GPU in Colab\n",
        "\n",
        "    Go to Runtime > Change runtime type\n",
        "\n",
        "    Set Hardware Accelerator to GPU\n",
        "\n",
        "   Click Save\n",
        "2. !nvidia-smi    // GPU availability\n",
        "3. !nvcc --version\n",
        "\n",
        "4. Write your cuda file  eg: %%writefile test.cu followed by code\n",
        "\n",
        "5. Compile your cuda program\n",
        "    !nvcc -arch=sm_75 -o test test.cu\n",
        "\n",
        "6. Run the code\n",
        "    !./test\n",
        "\n",
        "\n"
      ],
      "metadata": {
        "id": "TrEXcd8M8Z2a"
      }
    },
    {
      "cell_type": "markdown",
      "source": [
        "Program 1 :"
      ],
      "metadata": {
        "id": "uxvx2CC0-CcR"
      }
    },
    {
      "cell_type": "code",
      "source": [
        "!nvcc --version"
      ],
      "metadata": {
        "colab": {
          "base_uri": "https://localhost:8080/"
        },
        "id": "sLgO7ENWuMM9",
        "outputId": "a2b3d6e7-c965-468a-8f1c-a066e33bd547"
      },
      "execution_count": 1,
      "outputs": [
        {
          "output_type": "stream",
          "name": "stdout",
          "text": [
            "nvcc: NVIDIA (R) Cuda compiler driver\n",
            "Copyright (c) 2005-2024 NVIDIA Corporation\n",
            "Built on Thu_Jun__6_02:18:23_PDT_2024\n",
            "Cuda compilation tools, release 12.5, V12.5.82\n",
            "Build cuda_12.5.r12.5/compiler.34385749_0\n"
          ]
        }
      ]
    },
    {
      "cell_type": "code",
      "source": [],
      "metadata": {
        "id": "tfhrzzRY7iT0"
      },
      "execution_count": null,
      "outputs": []
    },
    {
      "cell_type": "code",
      "source": [
        "%%writefile perfect_number.cu\n",
        "#include <stdio.h>\n",
        "\n",
        "__global__ void perfect() {\n",
        "    int tid = blockIdx.x * blockDim.x + threadIdx.x;\n",
        "    int num = tid + 1;\n",
        "\n",
        "    if (num > 1000) return;\n",
        "\n",
        "    int sum = 1;\n",
        "\n",
        "    for (int p = 2; p <= num / 2; ++p) {\n",
        "        if (num % p == 0) sum += p;\n",
        "    }\n",
        "\n",
        "    if (sum == num && num != 1) {\n",
        "        printf(\"%d is a perfect number\\n\", num);\n",
        "    }\n",
        "}\n",
        "\n",
        "int main() {\n",
        "    int threadsPerBlock = 256;\n",
        "    int totalNumbers = 1000;\n",
        "    int numBlocks = (totalNumbers + threadsPerBlock - 1) / threadsPerBlock;\n",
        "\n",
        "    perfect<<<numBlocks, threadsPerBlock>>>();\n",
        "    cudaDeviceSynchronize();\n",
        "\n",
        "    return 0;\n",
        "}\n"
      ],
      "metadata": {
        "colab": {
          "base_uri": "https://localhost:8080/"
        },
        "id": "c6l4b7CGwkmj",
        "outputId": "267592d3-58ab-4df2-9ddc-01f2a0ec89e6"
      },
      "execution_count": 2,
      "outputs": [
        {
          "output_type": "stream",
          "name": "stdout",
          "text": [
            "Writing perfect_number.cu\n"
          ]
        }
      ]
    },
    {
      "cell_type": "code",
      "source": [
        "\n",
        "!nvcc -arch=sm_75 -o perfect_number perfect_number.cu\n"
      ],
      "metadata": {
        "id": "H-YD6Geg7vKd"
      },
      "execution_count": 3,
      "outputs": []
    },
    {
      "cell_type": "code",
      "source": [
        "!./perfect_number"
      ],
      "metadata": {
        "colab": {
          "base_uri": "https://localhost:8080/"
        },
        "id": "HvVlldc48C1Z",
        "outputId": "37f5e69f-3d3d-4387-c54a-da00c79fe735"
      },
      "execution_count": 4,
      "outputs": [
        {
          "output_type": "stream",
          "name": "stdout",
          "text": [
            "6 is a perfect number\n",
            "28 is a perfect number\n",
            "496 is a perfect number\n"
          ]
        }
      ]
    },
    {
      "cell_type": "markdown",
      "source": [
        "Program 3: finding perfect number using different cuda code"
      ],
      "metadata": {
        "id": "mgjyr3tn-1eL"
      }
    },
    {
      "cell_type": "code",
      "source": [
        "%%writefile perfect_number1.cu\n",
        "#include <stdio.h>\n",
        "\n",
        "__device__ bool isPerfect(int num) {\n",
        "    int sum = 1;\n",
        "    for (int i = 2; i <= num / 2; i++) {\n",
        "        if (num % i == 0) sum += i;\n",
        "    }\n",
        "    return sum == num;\n",
        "}\n",
        "\n",
        "__global__ void findPerfectNumbers(int *results, int *count, int limit) {\n",
        "    int idx = blockIdx.x * blockDim.x + threadIdx.x;\n",
        "    int num = idx + 2;  // Start checking from 2\n",
        "\n",
        "    if (num > limit) return;\n",
        "\n",
        "    if (isPerfect(num)) {\n",
        "        int pos = atomicAdd(count, 1);\n",
        "        results[pos] = num;\n",
        "    }\n",
        "}\n",
        "\n",
        "int main() {\n",
        "    const int LIMIT = 10000;\n",
        "    const int MAX_RESULTS = 10;\n",
        "\n",
        "    int *d_results, *d_count;\n",
        "    int h_results[MAX_RESULTS] = {0};\n",
        "    int h_count = 0;\n",
        "\n",
        "    cudaMalloc(&d_results, MAX_RESULTS * sizeof(int));\n",
        "    cudaMalloc(&d_count, sizeof(int));\n",
        "\n",
        "    cudaMemset(d_results, 0, MAX_RESULTS * sizeof(int));\n",
        "    cudaMemset(d_count, 0, sizeof(int));\n",
        "\n",
        "    int threadsPerBlock = 256;\n",
        "    int totalThreads = LIMIT - 1; // from 2 to LIMIT\n",
        "    int numBlocks = (totalThreads + threadsPerBlock - 1) / threadsPerBlock;\n",
        "\n",
        "    findPerfectNumbers<<<numBlocks, threadsPerBlock>>>(d_results, d_count, LIMIT);\n",
        "    cudaDeviceSynchronize();\n",
        "\n",
        "    cudaMemcpy(&h_count, d_count, sizeof(int), cudaMemcpyDeviceToHost);\n",
        "    cudaMemcpy(h_results, d_results, MAX_RESULTS * sizeof(int), cudaMemcpyDeviceToHost);\n",
        "\n",
        "    printf(\"Perfect numbers up to %d:\\n\", LIMIT);\n",
        "    if (h_count == 0) {\n",
        "        printf(\"No perfect numbers found.\\n\");\n",
        "    } else {\n",
        "        for (int i = 0; i < h_count; ++i) {\n",
        "            printf(\"%d\\n\", h_results[i]);\n",
        "        }\n",
        "    }\n",
        "\n",
        "    cudaFree(d_results);\n",
        "    cudaFree(d_count);\n",
        "\n",
        "    return 0;\n",
        "}\n"
      ],
      "metadata": {
        "colab": {
          "base_uri": "https://localhost:8080/"
        },
        "id": "RIJyP4B-7spl",
        "outputId": "df8863dd-0f4c-455f-e7cd-da063bc1dbe2"
      },
      "execution_count": null,
      "outputs": [
        {
          "output_type": "stream",
          "name": "stdout",
          "text": [
            "Writing perfect_number1.cu\n"
          ]
        }
      ]
    },
    {
      "cell_type": "code",
      "source": [
        "!nvcc -arch=sm_75 -o testt perfect_number1.cu"
      ],
      "metadata": {
        "id": "fruX1OoG-k3k"
      },
      "execution_count": null,
      "outputs": []
    },
    {
      "cell_type": "code",
      "source": [
        "!./testt"
      ],
      "metadata": {
        "colab": {
          "base_uri": "https://localhost:8080/"
        },
        "id": "F-36PUuW-v2j",
        "outputId": "251ffe7e-30e6-4431-ef4e-d41d74b7754c"
      },
      "execution_count": null,
      "outputs": [
        {
          "output_type": "stream",
          "name": "stdout",
          "text": [
            "Perfect numbers up to 10000:\n",
            "6\n",
            "28\n",
            "496\n",
            "8128\n"
          ]
        }
      ]
    }
  ]
}