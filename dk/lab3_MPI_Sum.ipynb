{
  "nbformat": 4,
  "nbformat_minor": 0,
  "metadata": {
    "colab": {
      "provenance": []
    },
    "kernelspec": {
      "name": "python3",
      "display_name": "Python 3"
    },
    "language_info": {
      "name": "python"
    }
  },
  "cells": [
    {
      "cell_type": "code",
      "execution_count": 6,
      "metadata": {
        "colab": {
          "base_uri": "https://localhost:8080/"
        },
        "id": "0pQtshWBQaDN",
        "outputId": "a12888b2-f44c-4a04-9605-c3012d2a2dc1"
      },
      "outputs": [
        {
          "output_type": "stream",
          "name": "stdout",
          "text": [
            "Reading package lists... Done\n",
            "Building dependency tree... Done\n",
            "Reading state information... Done\n",
            "mpich is already the newest version (4.0-3).\n",
            "0 upgraded, 0 newly installed, 0 to remove and 34 not upgraded.\n"
          ]
        }
      ],
      "source": [
        "!apt-get install -y mpich"
      ]
    },
    {
      "cell_type": "code",
      "source": [
        "%%writefile hello_mpi.cpp\n",
        "#include <mpi.h>\n",
        "#include <iostream>\n",
        "using namespace std;\n",
        "\n",
        "int main(int argc, char** argv) {\n",
        "    int rank, size;\n",
        "    MPI_Init(&argc, &argv);\n",
        "    MPI_Comm_rank(MPI_COMM_WORLD, &rank);\n",
        "    MPI_Comm_size(MPI_COMM_WORLD, &size);\n",
        "\n",
        "    if (size != 3) {\n",
        "        if (rank == 0)\n",
        "            cout << \"This program must be run with exactly 3 processes.\\n\";\n",
        "        MPI_Finalize();\n",
        "        return 0;\n",
        "    }\n",
        "\n",
        "    int ARRAY_SIZE;\n",
        "    int* full_array = nullptr;\n",
        "    int* sub_array = nullptr;\n",
        "\n",
        "    if (rank == 0) {\n",
        "        cout << \"Enter the length (must be divisible by 2): \";\n",
        "        cin >> ARRAY_SIZE;\n",
        "        if (ARRAY_SIZE % 2 != 0) {\n",
        "            cout << \"Array size must be divisible by 2.\\n\";\n",
        "            MPI_Abort(MPI_COMM_WORLD, 1);\n",
        "        }\n",
        "        full_array = new int[ARRAY_SIZE];\n",
        "        cout << \"Enter elements of array:\\n\";\n",
        "        for (int i = 0; i < ARRAY_SIZE; i++) {\n",
        "            cin >> full_array[i];\n",
        "        }\n",
        "    }\n",
        "\n",
        "    // Broadcast the array size to all processes\n",
        "    MPI_Bcast(&ARRAY_SIZE, 1, MPI_INT, 0, MPI_COMM_WORLD);\n",
        "\n",
        "    int half_size = ARRAY_SIZE / 2;\n",
        "    sub_array = new int[half_size];\n",
        "\n",
        "    // Scatter the array to rank 0 and 1\n",
        "    MPI_Scatter(full_array, half_size, MPI_INT,\n",
        "        sub_array, half_size, MPI_INT,\n",
        "        0, MPI_COMM_WORLD);\n",
        "\n",
        "    int partial_sum = 0;\n",
        "    for (int i = 0; i < half_size; i++) {\n",
        "        partial_sum += sub_array[i];\n",
        "    }\n",
        "\n",
        "    if (rank == 0) {\n",
        "        double start_time = MPI_Wtime();\n",
        "        MPI_Send(&partial_sum, 1, MPI_INT, 2, 0, MPI_COMM_WORLD);\n",
        "        MPI_Send(&start_time, 1, MPI_DOUBLE, 2, 1, MPI_COMM_WORLD);\n",
        "    }\n",
        "    else if (rank == 1) {\n",
        "        MPI_Send(&partial_sum, 1, MPI_INT, 2, 2, MPI_COMM_WORLD);\n",
        "    }\n",
        "    else if (rank == 2) {\n",
        "        int sum1, sum2;\n",
        "        double start_time, end_time;\n",
        "        MPI_Recv(&sum1, 1, MPI_INT, 0, 0, MPI_COMM_WORLD, MPI_STATUS_IGNORE);\n",
        "        MPI_Recv(&start_time, 1, MPI_DOUBLE, 0, 1, MPI_COMM_WORLD, MPI_STATUS_IGNORE);\n",
        "        MPI_Recv(&sum2, 1, MPI_INT, 1, 2, MPI_COMM_WORLD, MPI_STATUS_IGNORE);\n",
        "        int final_sum = sum1 + sum2;\n",
        "        end_time = MPI_Wtime();\n",
        "        cout << \"Final sum: \" << final_sum << endl;\n",
        "        cout << \"Processing time: \" << end_time - start_time << \" seconds\" << endl;\n",
        "    }\n",
        "\n",
        "    if (full_array) delete[] full_array;\n",
        "    delete[] sub_array;\n",
        "\n",
        "    MPI_Finalize();\n",
        "    return 0;\n",
        "}"
      ],
      "metadata": {
        "colab": {
          "base_uri": "https://localhost:8080/"
        },
        "id": "NB55b2LHQbnd",
        "outputId": "cdf3bb7c-2499-4637-b0a4-60c67371f9c1"
      },
      "execution_count": 7,
      "outputs": [
        {
          "output_type": "stream",
          "name": "stdout",
          "text": [
            "Overwriting hello_mpi.cpp\n"
          ]
        }
      ]
    },
    {
      "cell_type": "code",
      "source": [
        "!mpic++ hello_mpi.cpp -o hello_mpi\n"
      ],
      "metadata": {
        "id": "Bx5PosymQu28"
      },
      "execution_count": 9,
      "outputs": []
    },
    {
      "cell_type": "code",
      "source": [
        "!echo -e \"6\\n1 2 3 4 5 6\" > input.txt\n",
        "#colab doesnt take input, that is why we make an input file which has array of length whatever we need(here anything divisble by 2) and feed it while executing.\n",
        "#this cell is for only colab\n",
        "#if using vs then dont use this line of code"
      ],
      "metadata": {
        "id": "Vx_R0jw9SMlW"
      },
      "execution_count": 16,
      "outputs": []
    },
    {
      "cell_type": "code",
      "source": [
        "!OMPI_ALLOW_RUN_AS_ROOT=1 OMPI_ALLOW_RUN_AS_ROOT_CONFIRM=1 mpirun --oversubscribe -np 3 ./hello_mpi <input.txt\n"
      ],
      "metadata": {
        "colab": {
          "base_uri": "https://localhost:8080/"
        },
        "id": "Sc97nLqsRMvN",
        "outputId": "b8afd2a5-0af7-4e78-920e-2954e56ff5d2"
      },
      "execution_count": 15,
      "outputs": [
        {
          "output_type": "stream",
          "name": "stdout",
          "text": [
            "Enter the length (must be divisible by 2): Enter elements of array:\n",
            "Final sum: 21\n",
            "Processing time: 0 seconds\n"
          ]
        }
      ]
    }
  ]
}